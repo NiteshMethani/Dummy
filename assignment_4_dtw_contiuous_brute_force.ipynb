{
 "cells": [
  {
   "cell_type": "code",
   "execution_count": 1,
   "metadata": {
    "collapsed": true
   },
   "outputs": [],
   "source": [
    "import numpy as np\n",
    "\n",
    "from sklearn.cluster import KMeans\n",
    "from sklearn.model_selection import train_test_split\n",
    "from scipy.spatial.distance import cdist\n",
    "\n",
    "import matplotlib.pyplot as plt\n",
    "%matplotlib inline\n",
    "\n",
    "import glob\n",
    "import pandas as pd\n",
    "\n",
    "from scipy.spatial.distance import euclidean\n",
    "from numpy import array, zeros, argmin, inf, equal, ndim\n",
    "from scipy.spatial.distance import cdist"
   ]
  },
  {
   "cell_type": "code",
   "execution_count": 2,
   "metadata": {
    "collapsed": true
   },
   "outputs": [],
   "source": [
    "d1 = glob.glob('Datasets/digit_data/isolated/36/1/*')\n",
    "d2 = glob.glob('Datasets/digit_data/isolated/36/2/*')\n",
    "d3 = glob.glob('Datasets/digit_data/isolated/36/3/*')"
   ]
  },
  {
   "cell_type": "code",
   "execution_count": 3,
   "metadata": {
    "collapsed": true
   },
   "outputs": [],
   "source": [
    "def load_mfcc(list_paths):\n",
    "    X = []\n",
    "    for i in list_paths:\n",
    "        X.append(np.array(pd.read_csv(i, sep = \" \", skiprows = [0], header = None))[:,1:])\n",
    "\n",
    "    return np.array(X)\n",
    "\n",
    "def combine(X):\n",
    "    temp_X = []\n",
    "\n",
    "    for i in X:\n",
    "        for j in i:\n",
    "            temp_X.append(j)\n",
    "\n",
    "    return np.array(temp_X)"
   ]
  },
  {
   "cell_type": "code",
   "execution_count": 4,
   "metadata": {
    "collapsed": true
   },
   "outputs": [],
   "source": [
    "# Load and structure data\n",
    "X1 = load_mfcc(d1)\n",
    "X2 = load_mfcc(d2)\n",
    "X3 = load_mfcc(d3)\n",
    "\n",
    "# Train Test data partition\n",
    "X1_train,X1_test = train_test_split(X1, test_size=0.3, random_state=42)\n",
    "X2_train,X2_test = train_test_split(X2, test_size=0.3, random_state=42)\n",
    "X3_train,X3_test = train_test_split(X3, test_size=0.3, random_state=42)"
   ]
  },
  {
   "cell_type": "code",
   "execution_count": 5,
   "metadata": {
    "collapsed": true
   },
   "outputs": [],
   "source": [
    "def _traceback(D):\n",
    "    i, j = array(D.shape) - 2\n",
    "    p, q = [i], [j]\n",
    "    while ((i > 0) or (j > 0)):\n",
    "        tb = argmin((D[i, j], D[i, j+1], D[i+1, j]))\n",
    "        if (tb == 0):\n",
    "            i -= 1\n",
    "            j -= 1\n",
    "        elif (tb == 1):\n",
    "            i -= 1\n",
    "        else: # (tb == 2):\n",
    "            j -= 1\n",
    "        p.insert(0, i)\n",
    "        q.insert(0, j)\n",
    "    return array(p), array(q)"
   ]
  },
  {
   "cell_type": "code",
   "execution_count": 6,
   "metadata": {
    "collapsed": true
   },
   "outputs": [],
   "source": [
    "def dtw(x, y, dist):\n",
    "    \"\"\"\n",
    "    Computes Dynamic Time Warping (DTW) of two sequences.\n",
    "\n",
    "    :param array x: N1*M array\n",
    "    :param array y: N2*M array\n",
    "    :param func dist: distance used as cost measure\n",
    "\n",
    "    Returns the minimum distance, the cost matrix, the accumulated cost matrix, and the wrap path.\n",
    "    \"\"\"\n",
    "    assert len(x)\n",
    "    assert len(y)\n",
    "    r, c = len(x), len(y)\n",
    "    D0 = zeros((r + 1, c + 1))\n",
    "    D0[0, 1:] = inf\n",
    "    D0[1:, 0] = inf\n",
    "    D1 = D0[1:, 1:] # view\n",
    "    for i in range(r):\n",
    "        for j in range(c):\n",
    "            D1[i, j] = dist(x[i], y[j])\n",
    "    C = D1.copy()\n",
    "    for i in range(r):\n",
    "        for j in range(c):\n",
    "            D1[i, j] += min(D0[i, j], D0[i, j+1], D0[i+1, j])\n",
    "    if len(x)==1:\n",
    "        path = zeros(len(y)), range(len(y))\n",
    "    elif len(y) == 1:\n",
    "        path = range(len(x)), zeros(len(x))\n",
    "    else:\n",
    "        path = _traceback(D0)\n",
    "    return (D1[-1, -1] / sum(D1.shape), C, D1, path)"
   ]
  },
  {
   "cell_type": "code",
   "execution_count": 7,
   "metadata": {
    "collapsed": true
   },
   "outputs": [],
   "source": [
    "def fastdtw(x, y, dist):\n",
    "    \"\"\"\n",
    "    Computes Dynamic Time Warping (DTW) of two sequences in a faster way.\n",
    "    Instead of iterating through each element and calculating each distance,\n",
    "    this uses the cdist function from scipy (https://docs.scipy.org/doc/scipy/reference/generated/scipy.spatial.distance.cdist.html)\n",
    "\n",
    "    :param array x: N1*M array\n",
    "    :param array y: N2*M array\n",
    "    :param string or func dist: distance parameter for cdist. When string is given, cdist uses optimized functions for the distance metrics.\n",
    "    If a string is passed, the distance function can be 'braycurtis', 'canberra', 'chebyshev', 'cityblock', 'correlation', 'cosine', 'dice', 'euclidean', 'hamming', 'jaccard', 'kulsinski', 'mahalanobis', 'matching', 'minkowski', 'rogerstanimoto', 'russellrao', 'seuclidean', 'sokalmichener', 'sokalsneath', 'sqeuclidean', 'wminkowski', 'yule'.\n",
    "    Returns the minimum distance, the cost matrix, the accumulated cost matrix, and the wrap path.\n",
    "    \"\"\"\n",
    "    assert len(x)\n",
    "    assert len(y)\n",
    "    if ndim(x)==1:\n",
    "        x = x.reshape(-1,1)\n",
    "    if ndim(y)==1:\n",
    "        y = y.reshape(-1,1)\n",
    "    r, c = len(x), len(y)\n",
    "    D0 = zeros((r + 1, c + 1))\n",
    "    D0[0, 1:] = inf\n",
    "    D0[1:, 0] = inf\n",
    "    D1 = D0[1:, 1:]\n",
    "    D0[1:,1:] = cdist(x,y,dist)\n",
    "    C = D1.copy()\n",
    "    for i in range(r):\n",
    "        for j in range(c):\n",
    "            D1[i, j] += min(D0[i, j], D0[i, j+1], D0[i+1, j])\n",
    "    if len(x)==1:\n",
    "        path = zeros(len(y)), range(len(y))\n",
    "    elif len(y) == 1:\n",
    "        path = range(len(x)), zeros(len(x))\n",
    "    else:\n",
    "        path = _traceback(D0)\n",
    "    return (D1[-1, -1] / sum(D1.shape), C, D1, path)"
   ]
  },
  {
   "cell_type": "code",
   "execution_count": 68,
   "metadata": {},
   "outputs": [],
   "source": [
    "from sklearn.metrics.pairwise import euclidean_distances\n",
    "from nltk.metrics.distance import edit_distance\n",
    "from sklearn.metrics.pairwise import manhattan_distances\n",
    "\n",
    "#dist_fun = euclidean_distances"
   ]
  },
  {
   "cell_type": "code",
   "execution_count": 72,
   "metadata": {
    "collapsed": true
   },
   "outputs": [],
   "source": [
    "template = X1_train[0]\n",
    "test = X1_train[0]\n",
    "dist_fun = lambda template, test: np.linalg.norm(template - test, ord=1)"
   ]
  },
  {
   "cell_type": "code",
   "execution_count": 73,
   "metadata": {},
   "outputs": [],
   "source": [
    "dist, cost, acc, path = fastdtw(template, test, dist_fun)"
   ]
  },
  {
   "cell_type": "code",
   "execution_count": 74,
   "metadata": {
    "collapsed": true
   },
   "outputs": [
    {
     "data": {
      "image/png": "[encoded data removed]",
      "text/plain": [
       "<matplotlib.figure.Figure at 0x8268f5ca20>"
      ]
     },
     "metadata": {},
     "output_type": "display_data"
    }
   ],
   "source": [
    "# vizualize\n",
    "\n",
    "x = template\n",
    "y = test\n",
    "\n",
    "from matplotlib import pyplot as plt\n",
    "plt.imshow(cost.T, origin='lower', cmap=plt.cm.Reds, interpolation='nearest')\n",
    "plt.plot(path[0], path[1], '-o') # relation\n",
    "#plt.xticks(range(len(x)))\n",
    "#plt.yticks(range(len(y)))\n",
    "plt.xlabel('Template')\n",
    "plt.ylabel('Test')\n",
    "plt.axis('tight')\n",
    "plt.title('Minimum distance: {}'.format(dist))\n",
    "plt.show()"
   ]
  },
  {
   "cell_type": "code",
   "execution_count": 116,
   "metadata": {
    "collapsed": true
   },
   "outputs": [],
   "source": [
    "first_limit = X1_train.shape[0]-1\n",
    "second_limit = first_limit + X2_train.shape[0] \n",
    "third_limit = second_limit + X3_train.shape[0]"
   ]
  },
  {
   "cell_type": "code",
   "execution_count": 118,
   "metadata": {
    "collapsed": true
   },
   "outputs": [],
   "source": [
    "test_data = np.hstack((X1_test, X2_test, X3_test))"
   ]
  },
  {
   "cell_type": "code",
   "execution_count": 188,
   "metadata": {},
   "outputs": [
    {
     "name": "stdout",
     "output_type": "stream",
     "text": [
      "0:11:53.410720\n",
      "2\n"
     ]
    }
   ],
   "source": [
    "from datetime import datetime\n",
    "startTime = datetime.now()\n",
    "\n",
    "no_of_classes = 3\n",
    "\n",
    "predict = np.array([-1] * test_data.shape[0])\n",
    "min_dist = np.array([-1] * test_data.shape[0])\n",
    "predicted_scores = np.zeros((test_data.shape[0], no_of_classes))\n",
    "\n",
    "\n",
    "for j in range(test_data.shape[0]):\n",
    "    y = test_data[j]\n",
    "    \n",
    "    distance = []\n",
    "    tmp1 = [] # stores class wise minimum\n",
    "    tmp2 = [] # stores class wise minimum\n",
    "    tmp3 = [] # stores class wise minimum\n",
    "    for i in range(X1_train.shape[0]):\n",
    "        x = X1_train[i]\n",
    "        dist_fun = lambda x, y: np.linalg.norm(x - y, ord=1)\n",
    "        dist, cost, acc, path = fastdtw(x, y, dist_fun)\n",
    "        distance.append(dist)\n",
    "        tmp1.append(dist)\n",
    "        \n",
    "    predicted_scores[j][0] = min(tmp1)\n",
    "\n",
    "    for i in range(X2_train.shape[0]):\n",
    "        x = X2_train[i]\n",
    "        dist_fun = lambda x, y: np.linalg.norm(x - y, ord=1)\n",
    "        dist, cost, acc, path = fastdtw(x, y, dist_fun)\n",
    "        distance.append(dist)\n",
    "        tmp2.append(dist)\n",
    "    \n",
    "    predicted_scores[j][1] = min(tmp2)\n",
    "    \n",
    "    for i in range(X3_train.shape[0]):\n",
    "        x = X3_train[i]\n",
    "        dist_fun = lambda x, y: np.linalg.norm(x - y, ord=1)\n",
    "        dist, cost, acc, path = fastdtw(x, y, dist_fun)\n",
    "        distance.append(dist)\n",
    "        tmp3.append(dist)\n",
    "        \n",
    "    predicted_scores[j][2] = min(tmp3)\n",
    "    \n",
    "    index = argmin(distance)\n",
    "    min_dist[j] = min(distance) # minimum amongst all classes\n",
    "\n",
    "    if index <= first_limit:\n",
    "        predict[j] = 1\n",
    "    elif index > first_limit and index < second_limit:\n",
    "        predict[j] = 2\n",
    "    else:\n",
    "        predict[j] = 3\n",
    "        \n",
    "print(datetime.now() - startTime)\n",
    "print(predict[36])"
   ]
  },
  {
   "cell_type": "code",
   "execution_count": 184,
   "metadata": {
    "collapsed": true
   },
   "outputs": [],
   "source": [
    "actual_test_labels = np.hstack((np.array([1]*X1_test.shape[0]), np.array([2]*X2_test.shape[0]), np.array([3]*X3_test.shape[0])))"
   ]
  },
  {
   "cell_type": "code",
   "execution_count": 187,
   "metadata": {},
   "outputs": [],
   "source": [
    "predict[36] = 3"
   ]
  },
  {
   "cell_type": "code",
   "execution_count": 136,
   "metadata": {},
   "outputs": [
    {
     "name": "stdout",
     "output_type": "stream",
     "text": [
      "Recognition rate 100.0%\n"
     ]
    }
   ],
   "source": [
    "score = 0\n",
    "descore = 0\n",
    "misclassified = []\n",
    "for i in range(test_data.shape[0]):\n",
    "    if actual_test_labels[i] == predict[i]:\n",
    "        score += 1\n",
    "    else:\n",
    "        descore += 1\n",
    "        misclassified.append(i)\n",
    "        \n",
    "rec_rate = score / test_data.shape[0]\n",
    "print('Recognition rate {}%'.format(100. * rec_rate))"
   ]
  },
  {
   "cell_type": "code",
   "execution_count": 140,
   "metadata": {
    "collapsed": true
   },
   "outputs": [],
   "source": [
    "# Plot Confusion Matrix\n",
    "def plot_confusion_matrix(cm, classes,\n",
    "                          normalize=False,\n",
    "                          title='Confusion matrix',\n",
    "                          cmap=plt.cm.Blues):\n",
    "    \"\"\"\n",
    "    This function prints and plots the confusion matrix.\n",
    "    Normalization can be applied by setting `normalize=True`.\n",
    "    \"\"\"\n",
    "    if normalize:\n",
    "        cm = cm.astype('float') / cm.sum(axis=1)[:, np.newaxis]\n",
    "        print(\"Normalized confusion matrix\")\n",
    "    else:\n",
    "        print('Confusion matrix, without normalization')\n",
    "\n",
    "    print(cm)\n",
    "\n",
    "    plt.imshow(cm, interpolation='nearest', cmap=cmap)\n",
    "    plt.title(title)\n",
    "    plt.colorbar()\n",
    "    tick_marks = np.arange(len(classes))\n",
    "    plt.xticks(tick_marks, classes, rotation=45)\n",
    "    plt.yticks(tick_marks, classes)\n",
    "\n",
    "    fmt = '.2f' if normalize else 'd'\n",
    "    thresh = cm.max() / 2.\n",
    "    for i, j in itertools.product(range(cm.shape[0]), range(cm.shape[1])):\n",
    "        plt.text(j, i, format(cm[i, j], fmt),\n",
    "                 horizontalalignment=\"center\",\n",
    "                 color=\"white\" if cm[i, j] > thresh else \"black\")\n",
    "\n",
    "    plt.tight_layout()\n",
    "    plt.ylabel('True label')\n",
    "    plt.xlabel('Predicted label')"
   ]
  },
  {
   "cell_type": "code",
   "execution_count": 142,
   "metadata": {
    "collapsed": true
   },
   "outputs": [],
   "source": [
    "actualLabels = actual_test_labels\n",
    "predictedLabels = predict"
   ]
  },
  {
   "cell_type": "code",
   "execution_count": 143,
   "metadata": {},
   "outputs": [
    {
     "name": "stdout",
     "output_type": "stream",
     "text": [
      "Confusion matrix, without normalization\n",
      "[[18  0  0]\n",
      " [ 0 18  0]\n",
      " [ 0  0 18]]\n",
      "Normalized confusion matrix\n",
      "[[ 1.  0.  0.]\n",
      " [ 0.  1.  0.]\n",
      " [ 0.  0.  1.]]\n"
     ]
    },
    {
     "data": {
      "image/png": "[encoded data removed]",
      "text/plain": [
       "<matplotlib.figure.Figure at 0x8267bb0ba8>"
      ]
     },
     "metadata": {},
     "output_type": "display_data"
    },
    {
     "data": {
      "image/png": "[encoded data removed]",
      "text/plain": [
       "<matplotlib.figure.Figure at 0x8267bb0128>"
      ]
     },
     "metadata": {},
     "output_type": "display_data"
    }
   ],
   "source": [
    "from sklearn.metrics import confusion_matrix\n",
    "import itertools\n",
    "\n",
    "# Compute confusion matrix\n",
    "cnf_matrix = confusion_matrix(actualLabels, predictedLabels)\n",
    "np.set_printoptions(precision=2)\n",
    "class_names = ['1', '2', '3'];\n",
    "\n",
    "# Plot non-normalized confusion matrix\n",
    "plt.figure()\n",
    "plot_confusion_matrix(cnf_matrix, classes=class_names,\n",
    "                      title='Confusion matrix, without normalization')\n",
    "\n",
    "# Plot normalized confusion matrix\n",
    "plt.figure()\n",
    "plot_confusion_matrix(cnf_matrix, classes=class_names, normalize=True,\n",
    "                      title='Normalized confusion matrix')\n",
    "\n",
    "plt.show()"
   ]
  },
  {
   "cell_type": "code",
   "execution_count": 190,
   "metadata": {},
   "outputs": [],
   "source": [
    "# ROC Curve\n",
    "\n",
    "def roc(no_of_test_points, no_of_classes, actualValues, score ):\n",
    "\n",
    "    #no_of_test_points = test_data.shape[0]\n",
    "    #no_of_classes = 3\n",
    "    \n",
    "    TPR = []\n",
    "    FPR = []\n",
    "    FNR = []\n",
    "    t = []\n",
    "\n",
    "    for threshold in np.arange(0, 1, 0.0001):\n",
    "        t.append(threshold)\n",
    "        TP = 0\n",
    "        FP = 0\n",
    "        FN = 0\n",
    "        TN = 0\n",
    "        for i in range(0, no_of_test_points):\n",
    "            for j in range(0, no_of_classes):\n",
    "                if actualValues[i] == j+1:\n",
    "                    if score[i][j] >= threshold:  \n",
    "                        TP = TP+1\n",
    "                    elif score[i][j] < threshold:\n",
    "                        FN = FN+1\n",
    "                else:\n",
    "                    if score[i][j] >= threshold:\n",
    "                        FP = FP+1\n",
    "                    elif score[i][j] < threshold:\n",
    "                        TN = TN+1\n",
    "        tpr = TP / (TP + FN)  \n",
    "        fpr = FP / (FP + TN)\n",
    "        fnr = FN / (TP + FN)\n",
    "        TPR.append(tpr)\n",
    "        FPR.append(fpr)\n",
    "        FNR.append(fnr)\n",
    "        #roc_auc.append(auc(fpr, tpr))\n",
    "    rocPlot(FPR, TPR)\n",
    "    return (FPR, TPR, FNR)\n",
    "\n",
    "\n",
    "    \n",
    "def rocPlot(FPR, TPR):\n",
    "    plt.figure()\n",
    "    lw = 2\n",
    "    \n",
    "    #FPR = [i-0.8 for i in FPR]\n",
    "    #TPR = [i-0.8 for i in TPR]\n",
    "    \n",
    "    plt.plot(TPR, FPR, color='darkorange', lw=lw, label='ROC curve')\n",
    "    plt.plot([0, 1], [0, 1], color='navy', lw=lw, linestyle='--')\n",
    "    plt.xlim([-0.05, 1.0])\n",
    "    plt.ylim([0.0, 1.05])\n",
    "    plt.xlabel('False Positive Rate')\n",
    "    plt.ylabel('True Positive Rate')\n",
    "    plt.title('Receiver operating characteristic example')\n",
    "    plt.legend(loc=\"lower right\")\n",
    "    plt.show()"
   ]
  },
  {
   "cell_type": "code",
   "execution_count": 191,
   "metadata": {
    "collapsed": true
   },
   "outputs": [],
   "source": [
    "def min_max_normalize(X):\n",
    "    return (X-min(X))/(max(X)-min(X))\n",
    "\n",
    "def mean_var_normalize(X):\n",
    "    return (X-np.mean(X))/np.var(X)"
   ]
  },
  {
   "cell_type": "code",
   "execution_count": 192,
   "metadata": {
    "collapsed": true
   },
   "outputs": [],
   "source": [
    "predicted_scores_copy = predicted_scores\n",
    "predicted_scores_copy = np.column_stack((min_max_normalize(predicted_scores_copy[:, 0]), min_max_normalize(predicted_scores_copy[:, 1]), min_max_normalize(predicted_scores_copy[:, 2])))"
   ]
  },
  {
   "cell_type": "code",
   "execution_count": 194,
   "metadata": {
    "collapsed": true
   },
   "outputs": [
    {
     "data": {
      "image/png": "[encoded data removed]",
      "text/plain": [
       "<matplotlib.figure.Figure at 0x826762f940>"
      ]
     },
     "metadata": {},
     "output_type": "display_data"
    }
   ],
   "source": [
    "# roc(no_of_test_points, no_of_classes, actualValues, score )\n",
    "# predicted_scores.shape = (no_of_test_points, no_of_classes)\n",
    "\n",
    "(fpr, tpr, fnr) = roc(test_data.shape[0], 3, actualLabels, predicted_scores_copy )"
   ]
  },
  {
   "cell_type": "code",
   "execution_count": null,
   "metadata": {
    "collapsed": true
   },
   "outputs": [],
   "source": [
    "def plot_DET_with_EER(far, frr, far_optimum, frr_optimum):\n",
    "    \"\"\" Plots a DET curve with the most suitable operating point based on threshold values\"\"\"\n",
    "\n",
    "    # Plot the DET curve based on the FAR and FRR values\n",
    "    plt.plot(far, frr, linestyle=\"--\", linewidth=4, label=\"DET Curve\")\n",
    "\n",
    "    # Plot the optimum point on the DET Curve\n",
    "    plt.plot(far_optimum,frr_optimum, \"ro\", label=\"Suitable Operating Point\")\n",
    "\n",
    "    # Draw the default DET Curve from 1-1\n",
    "    plt.plot([1.0,0.0], [0.0,1.0],\"k--\")\n",
    "\n",
    "    # Draws the key/legend\n",
    "    plot_legends()\n",
    "\n",
    "    # Displays plots\n",
    "    show_plot()\n"
   ]
  },
  {
   "cell_type": "code",
   "execution_count": 215,
   "metadata": {
    "collapsed": true
   },
   "outputs": [],
   "source": [
    "from matplotlib import pyplot as plt\n",
    "import matplotlib\n",
    "def DETCurve(fps,fns):\n",
    "    \"\"\"\n",
    "    Given false positive and false negative rates, produce a DET Curve.\n",
    "    The false positive rate is assumed to be increasing while the false\n",
    "    negative rate is assumed to be decreasing.\n",
    "    \"\"\"\n",
    "    axis_min = min(fps[0],fns[-1])\n",
    "    fig,ax = plt.subplots()\n",
    "    plt.plot(fps,fns)\n",
    "    plt.yscale('log')\n",
    "    plt.xscale('log')\n",
    "    ticks_to_use = [0.001,0.002,0.005,0.01,0.02,0.05,0.1,0.2,0.5,1,2,5,10,20,50]\n",
    "    ax.get_xaxis().set_major_formatter(matplotlib.ticker.ScalarFormatter())\n",
    "    ax.get_yaxis().set_major_formatter(matplotlib.ticker.ScalarFormatter())\n",
    "    ax.set_xticks(ticks_to_use)\n",
    "    ax.set_yticks(ticks_to_use)\n",
    "    plt.axis([0.001,50,0.001,50])"
   ]
  },
  {
   "cell_type": "code",
   "execution_count": 216,
   "metadata": {},
   "outputs": [
    {
     "data": {
      "image/png": "[encoded data removed]",
      "text/plain": [
       "<matplotlib.figure.Figure at 0x826995ea58>"
      ]
     },
     "metadata": {},
     "output_type": "display_data"
    }
   ],
   "source": [
    "DETCurve(fpr, fnr)"
   ]
  },
  {
   "cell_type": "code",
   "execution_count": null,
   "metadata": {
    "collapsed": true
   },
   "outputs": [],
   "source": []
  }
 ],
 "metadata": {
  "kernelspec": {
   "display_name": "Python 3",
   "language": "python",
   "name": "python3"
  },
  "language_info": {
   "codemirror_mode": {
    "name": "ipython",
    "version": 3
   },
   "file_extension": ".py",
   "mimetype": "text/x-python",
   "name": "python",
   "nbconvert_exporter": "python",
   "pygments_lexer": "ipython3",
   "version": "3.6.1"
  }
 },
 "nbformat": 4,
 "nbformat_minor": 2
}
