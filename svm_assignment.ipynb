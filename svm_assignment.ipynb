{
 "cells": [
  {
   "cell_type": "code",
   "execution_count": 53,
   "metadata": {
    "collapsed": true
   },
   "outputs": [],
   "source": [
    "import numpy as np\n",
    "\n",
    "from sklearn.cluster import KMeans\n",
    "from sklearn.model_selection import train_test_split\n",
    "from scipy.spatial.distance import cdist\n",
    "\n",
    "import matplotlib.pyplot as plt\n",
    "%matplotlib inline\n",
    "\n",
    "import glob\n",
    "import pandas as pd\n",
    "\n",
    "from scipy.spatial.distance import euclidean\n",
    "from numpy import array, zeros, argmin, inf, equal, ndim\n",
    "from scipy.spatial.distance import cdist\n",
    "\n",
    "from sklearn import svm\n",
    "from sklearn.svm import LinearSVC"
   ]
  },
  {
   "cell_type": "code",
   "execution_count": 2,
   "metadata": {
    "collapsed": true
   },
   "outputs": [],
   "source": [
    "d1 = glob.glob('C:/Users/iNitesh/Dropbox/Datasets/digit_recognition_speech/data/isolated/36/1/*')\n",
    "d2 = glob.glob('C:/Users/iNitesh/Dropbox/Datasets/digit_recognition_speech/data/isolated/36/2/*')\n",
    "d3 = glob.glob('C:/Users/iNitesh/Dropbox/Datasets/digit_recognition_speech/data/isolated/36/3/*')"
   ]
  },
  {
   "cell_type": "code",
   "execution_count": 3,
   "metadata": {
    "collapsed": true
   },
   "outputs": [],
   "source": [
    "def load_mfcc(list_paths):\n",
    "    X = []\n",
    "    for i in list_paths:\n",
    "        X.append(np.array(pd.read_csv(i, sep = \" \", skiprows = [0], header = None))[:,1:])\n",
    "\n",
    "    return np.array(X)\n",
    "\n",
    "def combine(X):\n",
    "    temp_X = []\n",
    "\n",
    "    for i in X:\n",
    "        for j in i:\n",
    "            temp_X.append(j)\n",
    "\n",
    "    return np.array(temp_X)"
   ]
  },
  {
   "cell_type": "code",
   "execution_count": 4,
   "metadata": {},
   "outputs": [],
   "source": [
    "# Load and structure data\n",
    "X1 = load_mfcc(d1)\n",
    "X2 = load_mfcc(d2)\n",
    "X3 = load_mfcc(d3)\n",
    "\n",
    "# Train Test data partition\n",
    "# X1_train,X1_test = train_test_split(X1, test_size=0.3, random_state=42)\n",
    "# X2_train,X2_test = train_test_split(X2, test_size=0.3, random_state=42)\n",
    "# X3_train,X3_test = train_test_split(X3, test_size=0.3, random_state=42)"
   ]
  },
  {
   "cell_type": "code",
   "execution_count": 5,
   "metadata": {
    "collapsed": true
   },
   "outputs": [],
   "source": [
    "def _traceback(D):\n",
    "    i, j = array(D.shape) - 2\n",
    "    p, q = [i], [j]\n",
    "    while ((i > 0) or (j > 0)):\n",
    "        tb = argmin((D[i, j], D[i, j+1], D[i+1, j]))\n",
    "        if (tb == 0):\n",
    "            i -= 1\n",
    "            j -= 1\n",
    "        elif (tb == 1):\n",
    "            i -= 1\n",
    "        else: # (tb == 2):\n",
    "            j -= 1\n",
    "        p.insert(0, i)\n",
    "        q.insert(0, j)\n",
    "    return array(p), array(q)"
   ]
  },
  {
   "cell_type": "code",
   "execution_count": 6,
   "metadata": {
    "collapsed": true
   },
   "outputs": [],
   "source": [
    "def dtw(x, y, dist):\n",
    "    \"\"\"\n",
    "    Computes Dynamic Time Warping (DTW) of two sequences.\n",
    "\n",
    "    :param array x: N1*M array\n",
    "    :param array y: N2*M array\n",
    "    :param func dist: distance used as cost measure\n",
    "\n",
    "    Returns the minimum distance, the cost matrix, the accumulated cost matrix, and the wrap path.\n",
    "    \"\"\"\n",
    "    assert len(x)\n",
    "    assert len(y)\n",
    "    r, c = len(x), len(y)\n",
    "    D0 = zeros((r + 1, c + 1))\n",
    "    D0[0, 1:] = inf\n",
    "    D0[1:, 0] = inf\n",
    "    D1 = D0[1:, 1:] # view\n",
    "    for i in range(r):\n",
    "        for j in range(c):\n",
    "            D1[i, j] = dist(x[i], y[j])\n",
    "    C = D1.copy()\n",
    "    for i in range(r):\n",
    "        for j in range(c):\n",
    "            D1[i, j] += min(D0[i, j], D0[i, j+1], D0[i+1, j])\n",
    "    if len(x)==1:\n",
    "        path = zeros(len(y)), range(len(y))\n",
    "    elif len(y) == 1:\n",
    "        path = range(len(x)), zeros(len(x))\n",
    "    else:\n",
    "        path = _traceback(D0)\n",
    "    return (D1[-1, -1] / sum(D1.shape), C, D1, path)"
   ]
  },
  {
   "cell_type": "code",
   "execution_count": 7,
   "metadata": {
    "collapsed": true
   },
   "outputs": [],
   "source": [
    "def fastdtw(x, y, dist):\n",
    "    \"\"\"\n",
    "    Computes Dynamic Time Warping (DTW) of two sequences in a faster way.\n",
    "    Instead of iterating through each element and calculating each distance,\n",
    "    this uses the cdist function from scipy (https://docs.scipy.org/doc/scipy/reference/generated/scipy.spatial.distance.cdist.html)\n",
    "\n",
    "    :param array x: N1*M array\n",
    "    :param array y: N2*M array\n",
    "    :param string or func dist: distance parameter for cdist. When string is given, cdist uses optimized functions for the distance metrics.\n",
    "    If a string is passed, the distance function can be 'braycurtis', 'canberra', 'chebyshev', 'cityblock', 'correlation', 'cosine', 'dice', 'euclidean', 'hamming', 'jaccard', 'kulsinski', 'mahalanobis', 'matching', 'minkowski', 'rogerstanimoto', 'russellrao', 'seuclidean', 'sokalmichener', 'sokalsneath', 'sqeuclidean', 'wminkowski', 'yule'.\n",
    "    Returns the minimum distance, the cost matrix, the accumulated cost matrix, and the wrap path.\n",
    "    \"\"\"\n",
    "    assert len(x)\n",
    "    assert len(y)\n",
    "    if ndim(x)==1:\n",
    "        x = x.reshape(-1,1)\n",
    "    if ndim(y)==1:\n",
    "        y = y.reshape(-1,1)\n",
    "    r, c = len(x), len(y)\n",
    "    D0 = zeros((r + 1, c + 1))\n",
    "    D0[0, 1:] = inf\n",
    "    D0[1:, 0] = inf\n",
    "    D1 = D0[1:, 1:]\n",
    "    D0[1:,1:] = cdist(x,y,dist)\n",
    "    C = D1.copy()\n",
    "    for i in range(r):\n",
    "        for j in range(c):\n",
    "            D1[i, j] += min(D0[i, j], D0[i, j+1], D0[i+1, j])\n",
    "    if len(x)==1:\n",
    "        path = zeros(len(y)), range(len(y))\n",
    "    elif len(y) == 1:\n",
    "        path = range(len(x)), zeros(len(x))\n",
    "    else:\n",
    "        path = _traceback(D0)\n",
    "    return (D1[-1, -1] / sum(D1.shape), C, D1, path)"
   ]
  },
  {
   "cell_type": "code",
   "execution_count": 8,
   "metadata": {
    "collapsed": true
   },
   "outputs": [],
   "source": [
    "from sklearn.metrics.pairwise import euclidean_distances\n",
    "from nltk.metrics.distance import edit_distance\n",
    "from sklearn.metrics.pairwise import manhattan_distances\n",
    "\n",
    "#dist_fun = euclidean_distances"
   ]
  },
  {
   "cell_type": "code",
   "execution_count": 9,
   "metadata": {},
   "outputs": [
    {
     "name": "stdout",
     "output_type": "stream",
     "text": [
      "194\n",
      "131\n",
      "183\n",
      "[75, 84, 79, 84, 101, 97, 116, 94, 101, 94, 103, 194, 108, 88, 85, 89, 70, 97, 97, 92, 97, 96, 97, 121, 85, 94, 108, 75, 97, 92, 124, 112, 78, 81, 107, 84, 110, 78, 85, 102, 103, 80, 93, 88, 94, 85, 88, 84, 80, 94, 121, 98, 103, 80, 90, 89, 85]\n",
      "\n",
      "[70, 83, 80, 83, 106, 103, 120, 98, 87, 107, 101, 88, 79, 84, 83, 72, 131, 87, 75, 88, 117, 92, 98, 98, 78, 124, 85, 84, 76, 93, 106, 93, 99, 85, 103, 87, 113, 78, 97, 85, 106, 101, 84, 84, 67, 83, 79, 84, 80, 92, 97, 79, 78, 80, 74, 117, 78]\n",
      "\n",
      "[71, 88, 83, 107, 103, 88, 106, 108, 89, 181, 130, 93, 83, 81, 83, 83, 94, 93, 101, 88, 94, 112, 116, 183, 80, 83, 112, 96, 101, 94, 124, 106, 81, 87, 104, 89, 92, 85, 106, 145, 129, 96, 133, 79, 143, 99, 79, 88, 78, 98, 119, 92, 85, 83, 74, 135, 81]\n",
      "124\n",
      "30\n",
      "25\n",
      "30\n"
     ]
    }
   ],
   "source": [
    "max = 0\n",
    "n_frames_1 = []\n",
    "n_frames_2 = []\n",
    "n_frames_3 = []\n",
    "for i in range(0,57):\n",
    "    n_frames_1.append(X1[i].shape[0])\n",
    "    n_frames_2.append(X2[i].shape[0])\n",
    "    n_frames_3.append(X3[i].shape[0])\n",
    "print(np.max(np.array(n_frames_1)))\n",
    "print(np.max(np.array(n_frames_2)))\n",
    "print(np.max(np.array(n_frames_3)))\n",
    "\n",
    "print(n_frames_1)\n",
    "print()\n",
    "print(n_frames_2)\n",
    "print()\n",
    "print(n_frames_3)\n",
    "\n",
    "size = []\n",
    "for each in n_frames_1:\n",
    "    if each in n_frames_2 and each in n_frames_3:\n",
    "        size.append(each)\n",
    "print(np.max(size))\n",
    "print(n_frames_1.index(124))\n",
    "print(n_frames_2.index(124))\n",
    "print(n_frames_3.index(124))"
   ]
  },
  {
   "cell_type": "code",
   "execution_count": 26,
   "metadata": {},
   "outputs": [],
   "source": [
    "ref_1 = X1[30]\n",
    "ref_2 = X2[25]\n",
    "ref_3 = X3[30]\n",
    "\n",
    "X = []\n",
    "Y = []\n",
    "for i in range(0, 57):\n",
    "    test = X1[i]\n",
    "    dist_fun = lambda template, test: np.linalg.norm(template - test, ord=1)\n",
    "    dist, cost, acc, path = fastdtw(ref_1, test, dist_fun)\n",
    "    tmp = path[1]\n",
    "    \n",
    "    fixed_mfcc = np.zeros((124, 38))\n",
    "    for j in range(0, 124):\n",
    "        fixed_mfcc[j] = test[tmp[j]]\n",
    "    X.append(fixed_mfcc)\n",
    "    Y.append(1)\n",
    "\n",
    "for i in range(0, 57):\n",
    "    test = X2[i]\n",
    "    dist_fun = lambda template, test: np.linalg.norm(template - test, ord=1)\n",
    "    dist, cost, acc, path = fastdtw(ref_2, test, dist_fun)\n",
    "    tmp = path[1]\n",
    "    \n",
    "    fixed_mfcc = np.zeros((124, 38))\n",
    "    for j in range(0, 124):\n",
    "        fixed_mfcc[j] = test[tmp[j]]\n",
    "    X.append(fixed_mfcc)\n",
    "    Y.append(2)\n",
    "        \n",
    "for i in range(0, 57):\n",
    "    test = X3[i]\n",
    "    dist_fun = lambda template, test: np.linalg.norm(template - test, ord=1)\n",
    "    dist, cost, acc, path = fastdtw(ref_3, test, dist_fun)\n",
    "    tmp = path[1]\n",
    "    \n",
    "    fixed_mfcc = np.zeros((124, 38))\n",
    "    for j in range(0, 124):\n",
    "        fixed_mfcc[j] = test[tmp[j]]        \n",
    "    X.append(fixed_mfcc)\n",
    "    Y.append(3)\n",
    "    #np.savetxt('C:/Users/iNitesh/Desktop/SVM/fixed_length_mfcc/3/%d.txt' % i, fixed_mfcc)\n",
    "    "
   ]
  },
  {
   "cell_type": "code",
   "execution_count": 31,
   "metadata": {},
   "outputs": [
    {
     "data": {
      "text/plain": [
       "(171,)"
      ]
     },
     "execution_count": 31,
     "metadata": {},
     "output_type": "execute_result"
    }
   ],
   "source": [
    "X = np.array(X).reshape(-1, 124*38)\n",
    "Y = np.array(Y)"
   ]
  },
  {
   "cell_type": "code",
   "execution_count": 32,
   "metadata": {
    "collapsed": true
   },
   "outputs": [],
   "source": [
    "from sklearn.model_selection import train_test_split\n",
    "\n",
    "X_train, X_test, y_train, y_test = train_test_split(X, Y, test_size=0.33, random_state=42)"
   ]
  },
  {
   "cell_type": "code",
   "execution_count": 54,
   "metadata": {},
   "outputs": [
    {
     "data": {
      "text/plain": [
       "LinearSVC(C=1.0, class_weight=None, dual=True, fit_intercept=True,\n",
       "     intercept_scaling=1, loss='squared_hinge', max_iter=1000,\n",
       "     multi_class='ovr', penalty='l2', random_state=0, tol=0.0001,\n",
       "     verbose=0)"
      ]
     },
     "execution_count": 54,
     "metadata": {},
     "output_type": "execute_result"
    }
   ],
   "source": [
    "clf = LinearSVC(random_state=0)\n",
    "clf.fit(X_train, y_train)"
   ]
  },
  {
   "cell_type": "code",
   "execution_count": 59,
   "metadata": {},
   "outputs": [
    {
     "data": {
      "text/plain": [
       "{'C': 1.0,\n",
       " 'class_weight': None,\n",
       " 'dual': True,\n",
       " 'fit_intercept': True,\n",
       " 'intercept_scaling': 1,\n",
       " 'loss': 'squared_hinge',\n",
       " 'max_iter': 1000,\n",
       " 'multi_class': 'ovr',\n",
       " 'penalty': 'l2',\n",
       " 'random_state': 0,\n",
       " 'tol': 0.0001,\n",
       " 'verbose': 0}"
      ]
     },
     "execution_count": 59,
     "metadata": {},
     "output_type": "execute_result"
    }
   ],
   "source": [
    "clf.get_params()"
   ]
  },
  {
   "cell_type": "code",
   "execution_count": 78,
   "metadata": {
    "collapsed": true
   },
   "outputs": [],
   "source": [
    "clf =svm.SVC(kernel= 'sigmoid', probability=True)\n",
    "clf.fit(X_train, y_train)\n",
    "y_pred=clf.predict(X_test)"
   ]
  },
  {
   "cell_type": "code",
   "execution_count": 79,
   "metadata": {},
   "outputs": [
    {
     "data": {
      "text/plain": [
       "array([ True,  True,  True,  True,  True,  True,  True,  True,  True,\n",
       "        True,  True, False,  True,  True,  True,  True,  True,  True,\n",
       "        True,  True,  True,  True,  True,  True,  True,  True,  True,\n",
       "        True,  True,  True,  True,  True,  True,  True,  True,  True,\n",
       "        True,  True,  True,  True,  True, False,  True,  True,  True,\n",
       "        True,  True,  True,  True,  True,  True,  True,  True,  True,\n",
       "        True,  True,  True], dtype=bool)"
      ]
     },
     "execution_count": 79,
     "metadata": {},
     "output_type": "execute_result"
    }
   ],
   "source": [
    "y_pred == y_test"
   ]
  },
  {
   "cell_type": "code",
   "execution_count": 80,
   "metadata": {},
   "outputs": [
    {
     "data": {
      "text/plain": [
       "0.96491228070175439"
      ]
     },
     "execution_count": 80,
     "metadata": {},
     "output_type": "execute_result"
    }
   ],
   "source": [
    "clf.score(X_test, y_test)"
   ]
  },
  {
   "cell_type": "code",
   "execution_count": 81,
   "metadata": {},
   "outputs": [
    {
     "data": {
      "text/plain": [
       "array([  6,  19,  36,  51,  55,  56,  59,  61,  72,  83,  85,  88,  97,\n",
       "       108, 111,   3,  20,  27,  49,  63,  70,  82, 102, 105, 112,  10,\n",
       "        11,  14,  26,  33,  34,  44,  46,  48,  64,  69,  74,  75,  78,\n",
       "        79,  81,  86, 106])"
      ]
     },
     "execution_count": 81,
     "metadata": {},
     "output_type": "execute_result"
    }
   ],
   "source": [
    "clf.n_support_\n",
    "clf.support_"
   ]
  },
  {
   "cell_type": "code",
   "execution_count": 85,
   "metadata": {},
   "outputs": [
    {
     "data": {
      "text/plain": [
       "array([[  2.92275273e-02,   7.48734716e-01,   2.22037757e-01],\n",
       "       [  8.37549785e-01,   3.52312305e-02,   1.27218985e-01],\n",
       "       [  9.12938253e-01,   2.40728713e-02,   6.29888756e-02],\n",
       "       [  5.39993813e-02,   6.18060141e-03,   9.39820017e-01],\n",
       "       [  3.40577257e-02,   7.34175324e-03,   9.58600521e-01],\n",
       "       [  9.65230181e-03,   9.25638329e-01,   6.47093688e-02],\n",
       "       [  2.41520013e-02,   1.75890609e-01,   7.99957390e-01],\n",
       "       [  8.55159234e-03,   9.79532194e-01,   1.19162135e-02],\n",
       "       [  8.44186846e-03,   9.51409354e-01,   4.01487775e-02],\n",
       "       [  4.50311888e-03,   9.93791926e-01,   1.70495531e-03],\n",
       "       [  1.10779745e-01,   1.53490903e-02,   8.73871165e-01],\n",
       "       [  3.08278722e-03,   9.96396206e-01,   5.21006504e-04],\n",
       "       [  9.82222305e-01,   2.98206019e-03,   1.47956346e-02],\n",
       "       [  9.77124869e-01,   4.23038376e-03,   1.86447475e-02],\n",
       "       [  9.69625475e-01,   6.57518975e-03,   2.37993353e-02],\n",
       "       [  9.51195684e-01,   1.98964333e-02,   2.89078827e-02],\n",
       "       [  1.44937478e-02,   9.10851837e-01,   7.46544147e-02],\n",
       "       [  9.84640954e-01,   1.01034287e-02,   5.25561714e-03],\n",
       "       [  2.10322100e-02,   6.92736079e-02,   9.09694182e-01],\n",
       "       [  9.64252498e-01,   1.64094049e-02,   1.93380971e-02],\n",
       "       [  8.84989027e-03,   9.36933041e-01,   5.42170691e-02],\n",
       "       [  1.82394097e-02,   3.51881782e-02,   9.46572412e-01],\n",
       "       [  9.47508982e-01,   2.70267032e-03,   4.97883477e-02],\n",
       "       [  9.43838561e-01,   1.02589713e-02,   4.59024675e-02],\n",
       "       [  1.49336686e-03,   7.19207528e-03,   9.91314558e-01],\n",
       "       [  9.57850891e-01,   1.27282540e-02,   2.94208553e-02],\n",
       "       [  8.97552005e-01,   2.15220414e-02,   8.09259537e-02],\n",
       "       [  4.76380077e-03,   1.76908993e-02,   9.77545300e-01],\n",
       "       [  9.44855594e-01,   2.34862066e-02,   3.16581993e-02],\n",
       "       [  2.09937399e-02,   8.95645374e-01,   8.33608856e-02],\n",
       "       [  9.38879545e-01,   3.00735049e-02,   3.10469506e-02],\n",
       "       [  3.07498493e-03,   9.19480117e-01,   7.74448985e-02],\n",
       "       [  2.38594866e-02,   4.08222850e-02,   9.35318228e-01],\n",
       "       [  1.48512046e-02,   8.68308634e-01,   1.16840161e-01],\n",
       "       [  1.89936189e-02,   6.07169884e-03,   9.74934682e-01],\n",
       "       [  1.06668790e-02,   8.33871526e-01,   1.55461595e-01],\n",
       "       [  2.97284284e-02,   8.65223704e-01,   1.05047868e-01],\n",
       "       [  9.11113472e-01,   1.95239271e-02,   6.93626013e-02],\n",
       "       [  9.94938673e-01,   1.31831716e-03,   3.74300989e-03],\n",
       "       [  6.47822501e-03,   9.87912994e-01,   5.60878118e-03],\n",
       "       [  2.67175213e-02,   8.85005095e-01,   8.82773837e-02],\n",
       "       [  1.19153093e-02,   5.19630920e-01,   4.68453770e-01],\n",
       "       [  2.30180019e-02,   3.93803129e-02,   9.37601685e-01],\n",
       "       [  7.62768684e-03,   1.14470858e-02,   9.80925227e-01],\n",
       "       [  9.55197230e-01,   8.34086338e-03,   3.64619070e-02],\n",
       "       [  1.43207427e-02,   2.97884444e-04,   9.85381373e-01],\n",
       "       [  1.48204755e-02,   2.34868518e-02,   9.61692673e-01],\n",
       "       [  9.57134885e-03,   2.01340720e-02,   9.70294579e-01],\n",
       "       [  8.91152286e-03,   9.04166915e-01,   8.69215625e-02],\n",
       "       [  8.35095063e-01,   2.05492080e-02,   1.44355729e-01],\n",
       "       [  1.32048742e-02,   9.44631165e-01,   4.21639605e-02],\n",
       "       [  9.41577281e-01,   2.00328640e-02,   3.83898554e-02],\n",
       "       [  4.74448615e-03,   9.28005531e-01,   6.72499828e-02],\n",
       "       [  2.48589309e-02,   8.84073313e-01,   9.10677564e-02],\n",
       "       [  1.39354899e-02,   7.64655319e-01,   2.21409191e-01],\n",
       "       [  9.57096359e-01,   3.18861408e-03,   3.97150267e-02],\n",
       "       [  1.67455500e-02,   9.27757279e-01,   5.54971707e-02]])"
      ]
     },
     "execution_count": 85,
     "metadata": {},
     "output_type": "execute_result"
    }
   ],
   "source": [
    "clf.predict_proba(X_test)"
   ]
  },
  {
   "cell_type": "code",
   "execution_count": null,
   "metadata": {
    "collapsed": true
   },
   "outputs": [],
   "source": []
  }
 ],
 "metadata": {
  "kernelspec": {
   "display_name": "Python 3",
   "language": "python",
   "name": "python3"
  },
  "language_info": {
   "codemirror_mode": {
    "name": "ipython",
    "version": 3
   },
   "file_extension": ".py",
   "mimetype": "text/x-python",
   "name": "python",
   "nbconvert_exporter": "python",
   "pygments_lexer": "ipython3",
   "version": "3.6.1"
  }
 },
 "nbformat": 4,
 "nbformat_minor": 2
}
